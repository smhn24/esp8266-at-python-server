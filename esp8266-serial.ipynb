{
 "cells": [
  {
   "cell_type": "code",
   "execution_count": 1,
   "metadata": {},
   "outputs": [],
   "source": [
    "from serial import Serial"
   ]
  },
  {
   "cell_type": "code",
   "execution_count": 2,
   "metadata": {},
   "outputs": [],
   "source": [
    "router_SSID, router_PASSWORD=\"********\", \"********\"  # Router Wi-Fi information\n",
    "module_SSID, module_PASSWORD=\"ESP8266\", \"12345678\"   # Module Wi-Fi information\n",
    "PORT, BAUDRATE= 'COMx', 115200 # Serial information\n",
    "serial = Serial(PORT, BAUDRATE)"
   ]
  },
  {
   "cell_type": "code",
   "execution_count": 3,
   "metadata": {},
   "outputs": [
    {
     "name": "stdout",
     "output_type": "stream",
     "text": [
      "Now you can connect to ESP8266 module with TCP connection at: 192.168.203.136\n"
     ]
    }
   ],
   "source": [
    "serial.write(b'AT+RST\\r\\n')\n",
    "serial.read_until(b'ready\\r\\n')\n",
    "serial.write(b'AT\\r\\n')\n",
    "serial.read_until(b'OK\\r\\n')\n",
    "serial.write(b'AT+CWMODE=3\\r\\n')\n",
    "serial.read_until(b'OK\\r\\n')\n",
    "serial.write(f'AT+CWSAP=\"{module_SSID}\",\"{module_PASSWORD}\",5,4\\r\\n'.encode())\n",
    "serial.read_until(b'OK\\r\\n')\n",
    "serial.write(f'AT+CWJAP=\"{router_SSID}\",\"{router_PASSWORD}\"\\r\\n'.encode())\n",
    "serial.read_until(b'OK\\r\\n')\n",
    "serial.write(b'AT+CIPMUX=1\\r\\n')\n",
    "serial.read_until(b'OK\\r\\n')\n",
    "serial.write(b'AT+CIPSERVER=1,80\\r\\n')\n",
    "serial.read_until(b'OK\\r\\n')\n",
    "serial.write(b'AT+CIPSTA?\\r\\n')\n",
    "ip_result = serial.read_until(b'OK\\r\\n').decode().split('\"')[1]\n",
    "print(f'Now you can connect to ESP8266 module with TCP connection at: {ip_result}')"
   ]
  },
  {
   "cell_type": "markdown",
   "metadata": {},
   "source": [
    "#### Local ip: 192.168.4.1"
   ]
  }
 ],
 "metadata": {
  "kernelspec": {
   "display_name": "Python 3 (ipykernel)",
   "language": "python",
   "name": "python3"
  },
  "language_info": {
   "codemirror_mode": {
    "name": "ipython",
    "version": 3
   },
   "file_extension": ".py",
   "mimetype": "text/x-python",
   "name": "python",
   "nbconvert_exporter": "python",
   "pygments_lexer": "ipython3",
   "version": "3.10.4"
  },
  "vscode": {
   "interpreter": {
    "hash": "3f74628874e72a69f25fba1beeb97e633df0f5a9e3b9a803942cc96884bee9ff"
   }
  }
 },
 "nbformat": 4,
 "nbformat_minor": 2
}
