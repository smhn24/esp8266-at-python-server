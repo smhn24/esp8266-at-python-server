{
 "cells": [
  {
   "cell_type": "code",
   "execution_count": 1,
   "id": "3e37b3ed",
   "metadata": {},
   "outputs": [],
   "source": [
    "from socket import socket as Socket"
   ]
  },
  {
   "cell_type": "code",
   "execution_count": 2,
   "id": "b2944d37",
   "metadata": {},
   "outputs": [],
   "source": [
    "HOST, PORT = '192.168.4.1', 80\n",
    "socket = Socket()"
   ]
  },
  {
   "cell_type": "code",
   "execution_count": 3,
   "id": "c28fd5b4",
   "metadata": {},
   "outputs": [
    {
     "data": {
      "text/plain": [
       "5"
      ]
     },
     "execution_count": 3,
     "metadata": {},
     "output_type": "execute_result"
    }
   ],
   "source": [
    "socket.connect((HOST, PORT))\n",
    "socket.send(f'salam'.encode())"
   ]
  },
  {
   "cell_type": "code",
   "execution_count": 4,
   "id": "ed0af248",
   "metadata": {},
   "outputs": [
    {
     "data": {
      "text/plain": [
       "1"
      ]
     },
     "execution_count": 4,
     "metadata": {},
     "output_type": "execute_result"
    }
   ],
   "source": [
    "# socket.send(f'*90*'.encode()) # Send data with socket connection\n",
    "socket.send(bytes('1', 'UTF-8'))\n",
    "# socket.sendall(f'SSSS'.encode())"
   ]
  },
  {
   "cell_type": "code",
   "execution_count": 6,
   "id": "9a3f9ca2",
   "metadata": {},
   "outputs": [],
   "source": [
    "socket.recv(2).decode() # Receive data with socket connection"
   ]
  }
 ],
 "metadata": {
  "kernelspec": {
   "display_name": "Python 3 (ipykernel)",
   "language": "python",
   "name": "python3"
  },
  "language_info": {
   "codemirror_mode": {
    "name": "ipython",
    "version": 3
   },
   "file_extension": ".py",
   "mimetype": "text/x-python",
   "name": "python",
   "nbconvert_exporter": "python",
   "pygments_lexer": "ipython3",
   "version": "3.10.4"
  },
  "vscode": {
   "interpreter": {
    "hash": "3f74628874e72a69f25fba1beeb97e633df0f5a9e3b9a803942cc96884bee9ff"
   }
  }
 },
 "nbformat": 4,
 "nbformat_minor": 5
}
